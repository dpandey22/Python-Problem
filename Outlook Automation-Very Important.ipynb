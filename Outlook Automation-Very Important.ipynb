{
 "cells": [
  {
   "cell_type": "code",
   "execution_count": 2,
   "id": "6763fae7",
   "metadata": {},
   "outputs": [],
   "source": [
    "#Send an email\n",
    "import win32com.client as win32 \n",
    "import pandas as pd\n",
    "\n",
    "df=pd.read_excel('C:/Users/LENOVO/Desktop/Just tesT.xlsx',skiprows=0,usecols=\"A:B\"\n",
    "                 ,nrows=6)\n",
    "\n",
    "body='''\\\n",
    "    <html>\n",
    "    <body> <p>Hello All,<br>\n",
    "    <p> please find below details<br>\n",
    "    <bdoy>'''+df.to_html() +'''</br></body>\n",
    "    </p>\n",
    "    </html>\n",
    "    '''\n",
    "\n",
    "olook=win32.Dispatch('outlook.application')\n",
    "omail=olook.CreateItem(0)\n",
    "\n",
    "omail.Subject=\"Test mail with Python\"\n",
    "omail.To=\"dpandey10891@gmail.com\"\n",
    "#omail.Body=\"Hi How are you\"\n",
    "omail.HtmlBody=body\n",
    "omail.Send()"
   ]
  },
  {
   "cell_type": "code",
   "execution_count": 4,
   "id": "1fe0df17",
   "metadata": {},
   "outputs": [],
   "source": [
    "#Multiple snapshot\n",
    "\n",
    "import win32com.client as win32 \n",
    "import pandas as pd\n",
    "\n",
    "df=pd.read_excel('C:/Users/LENOVO/Desktop/Just tesT.xlsx',skiprows=0,usecols=\"A:B\"\n",
    "                 ,nrows=6)\n",
    "\n",
    "df1=pd.read_excel('C:/Users/LENOVO/Desktop/Just tesT.xlsx',skiprows=11,usecols=\"A:B\"\n",
    "                 ,nrows=6)\n",
    "\n",
    "body='''\\\n",
    "    <html>\n",
    "    <body> <p>Hello All,<br>\n",
    "    <p> please find below details<br>\n",
    "    <bdoy>'''+df.to_html() +'''</br></body>\n",
    "    <br> Please find second snapshot</br>\n",
    "    <bdoy>'''+df1.to_html() +'''</br></body>\n",
    "    \n",
    "    </p>\n",
    "    </html>\n",
    "    '''\n",
    "\n",
    "olook=win32.Dispatch('outlook.application')\n",
    "omail=olook.CreateItem(0)\n",
    "\n",
    "omail.Subject=\"Test mail with Python\"\n",
    "omail.To=\"dpandey10891@gmail.com\"\n",
    "#omail.Body=\"Hi How are you\"\n",
    "omail.HtmlBody=body\n",
    "omail.Send()"
   ]
  },
  {
   "cell_type": "markdown",
   "id": "bef093c5",
   "metadata": {},
   "source": [
    "# Paste Dashboard as Image Just Like through VBA"
   ]
  },
  {
   "cell_type": "code",
   "execution_count": 5,
   "id": "aca92498",
   "metadata": {},
   "outputs": [
    {
     "name": "stdout",
     "output_type": "stream",
     "text": [
      "Defaulting to user installation because normal site-packages is not writeableNote: you may need to restart the kernel to use updated packages.\n",
      "\n",
      "Requirement already satisfied: pillow in c:\\programdata\\anaconda3\\lib\\site-packages (9.2.0)\n"
     ]
    }
   ],
   "source": [
    "pip install pillow"
   ]
  },
  {
   "cell_type": "code",
   "execution_count": 16,
   "id": "84c70e2e",
   "metadata": {},
   "outputs": [
    {
     "name": "stdout",
     "output_type": "stream",
     "text": [
      "Defaulting to user installation because normal site-packages is not writeable\n",
      "Requirement already satisfied: pywin32 in c:\\programdata\\anaconda3\\lib\\site-packages (302)\n",
      "Note: you may need to restart the kernel to use updated packages.\n"
     ]
    }
   ],
   "source": [
    "pip install pywin32"
   ]
  },
  {
   "cell_type": "code",
   "execution_count": 1,
   "id": "2d5fad1c",
   "metadata": {},
   "outputs": [],
   "source": [
    "import os\n",
    "import win32com.client as client\n",
    "from PIL import ImageGrab\n"
   ]
  },
  {
   "cell_type": "code",
   "execution_count": 22,
   "id": "a5ff3d7e",
   "metadata": {},
   "outputs": [],
   "source": [
    "workbook_path='C:/Users/LENOVO/Desktop/Just tesT.xlsx'"
   ]
  },
  {
   "cell_type": "code",
   "execution_count": 23,
   "id": "5fdb75d3",
   "metadata": {},
   "outputs": [],
   "source": [
    "excel=client.Dispatch(\"Excel.Application\")"
   ]
  },
  {
   "cell_type": "code",
   "execution_count": 24,
   "id": "11d4589d",
   "metadata": {},
   "outputs": [],
   "source": [
    "wb=excel.Workbooks.Open(workbook_path)\n",
    "ws=wb.Sheets(\"Sheet1\")"
   ]
  },
  {
   "cell_type": "code",
   "execution_count": 25,
   "id": "597b519c",
   "metadata": {},
   "outputs": [],
   "source": [
    "copyRange=ws.Range(\"A1:B6\")"
   ]
  },
  {
   "cell_type": "code",
   "execution_count": 26,
   "id": "26a18532",
   "metadata": {},
   "outputs": [
    {
     "data": {
      "text/plain": [
       "True"
      ]
     },
     "execution_count": 26,
     "metadata": {},
     "output_type": "execute_result"
    }
   ],
   "source": [
    "copyRange.CopyPicture(Appearance=1,Format=2)"
   ]
  },
  {
   "cell_type": "code",
   "execution_count": 27,
   "id": "a7bf0c02",
   "metadata": {},
   "outputs": [],
   "source": [
    "ImageGrab.grabclipboard().save('C:/Users/LENOVO/Desktop/Divya/dashboard.png')"
   ]
  },
  {
   "cell_type": "code",
   "execution_count": 30,
   "id": "e04291d7",
   "metadata": {},
   "outputs": [],
   "source": [
    "copyRange1=ws.Range(\"A12:B17\")"
   ]
  },
  {
   "cell_type": "code",
   "execution_count": 31,
   "id": "38608c3d",
   "metadata": {},
   "outputs": [
    {
     "data": {
      "text/plain": [
       "True"
      ]
     },
     "execution_count": 31,
     "metadata": {},
     "output_type": "execute_result"
    }
   ],
   "source": [
    "copyRange.CopyPicture(Appearance=1,Format=2)"
   ]
  },
  {
   "cell_type": "code",
   "execution_count": 32,
   "id": "0667bd7b",
   "metadata": {},
   "outputs": [],
   "source": [
    "ImageGrab.grabclipboard().save('C:/Users/LENOVO/Desktop/Divya/dashboard2.png')"
   ]
  },
  {
   "cell_type": "code",
   "execution_count": 8,
   "id": "247ee63d",
   "metadata": {},
   "outputs": [],
   "source": [
    "excel.Quit()"
   ]
  },
  {
   "cell_type": "code",
   "execution_count": 33,
   "id": "903a2efc",
   "metadata": {},
   "outputs": [],
   "source": [
    "img_path=\"C:/Users/LENOVO/Desktop/Divya/dashboard.png\"\n",
    "img_path1=\"C:/Users/LENOVO/Desktop/Divya/dashboard2.png\""
   ]
  },
  {
   "cell_type": "code",
   "execution_count": 34,
   "id": "de2029cf",
   "metadata": {},
   "outputs": [],
   "source": [
    "body='''\\\n",
    "    <html>\n",
    "    <body> <p>Hello All,<br>\n",
    "    <p> please find below details<br>\n",
    "   \n",
    "     <img src='''+ img_path+'''></img><br><br>\n",
    "     <p>Please find below second snapshot\"</p><br>\n",
    "     \n",
    "      <img src='''+ img_path1+'''></img><br><br>\n",
    "     \n",
    "    </p>\n",
    "    </body>\n",
    "    </html>\n",
    "    '''"
   ]
  },
  {
   "cell_type": "code",
   "execution_count": 35,
   "id": "4aff2f63",
   "metadata": {},
   "outputs": [],
   "source": [
    "olook=client.Dispatch('outlook.application')\n",
    "omail=olook.CreateItem(0)\n",
    "\n",
    "omail.Subject=\"Test mail with Python img Dashboard\"\n",
    "omail.To=\"dpandey10891@gmail.com\"\n",
    "#omail.Body=\"Hi How are you\"\n",
    "omail.HtmlBody=body\n",
    "omail.Display()"
   ]
  },
  {
   "cell_type": "code",
   "execution_count": null,
   "id": "b9dd730c",
   "metadata": {},
   "outputs": [],
   "source": [
    "<img src='''+ img_path +''' ></img>"
   ]
  },
  {
   "cell_type": "markdown",
   "id": "10486f8f",
   "metadata": {},
   "source": [
    "### Download Attachments from  `Outlook`"
   ]
  },
  {
   "cell_type": "code",
   "execution_count": 3,
   "id": "90d5b256",
   "metadata": {},
   "outputs": [],
   "source": [
    "import win32com.client as win32 "
   ]
  },
  {
   "cell_type": "code",
   "execution_count": 5,
   "id": "cef9d6b7",
   "metadata": {},
   "outputs": [],
   "source": [
    "olook=win32.Dispatch(\"Outlook.Application\")\n",
    "Ons=olook.GetNameSpace(\"MAPI\")"
   ]
  },
  {
   "cell_type": "code",
   "execution_count": 6,
   "id": "be42097d",
   "metadata": {},
   "outputs": [],
   "source": [
    "fol=Ons.GetDefaultFolder(6)\n",
    "sub_fol=fol.Folders(\"NeedToDelete\")"
   ]
  },
  {
   "cell_type": "code",
   "execution_count": 8,
   "id": "bf6b8683",
   "metadata": {},
   "outputs": [],
   "source": [
    "save_path=\"C:/Users/LENOVO/Desktop/Divya/\""
   ]
  },
  {
   "cell_type": "code",
   "execution_count": 13,
   "id": "a66a9dc9",
   "metadata": {},
   "outputs": [],
   "source": [
    "for msg in sub_fol.Items:\n",
    "    \n",
    "    for atmt in msg.Attachments:\n",
    "        #print(atmt)\n",
    "        atmt.SaveAsFile(save_path+ str(atmt))"
   ]
  },
  {
   "cell_type": "markdown",
   "id": "fdfb9ffd",
   "metadata": {},
   "source": [
    "### Send Just normal Mail `Check with Outlook`"
   ]
  },
  {
   "cell_type": "code",
   "execution_count": 15,
   "id": "491e75ed",
   "metadata": {},
   "outputs": [],
   "source": [
    "import win32com.client as win32\n"
   ]
  },
  {
   "cell_type": "code",
   "execution_count": 17,
   "id": "bb3b77c3",
   "metadata": {},
   "outputs": [
    {
     "data": {
      "text/plain": [
       "True"
      ]
     },
     "execution_count": 17,
     "metadata": {},
     "output_type": "execute_result"
    }
   ],
   "source": [
    "olook=win32.Dispatch(\"Outlook.Application\")\n",
    "omail=olook.CreateItem(0)\n",
    "\n",
    "omail.To=\"dpandey10891@gmail.com\"\n",
    "omail.Subject=\"Hi Just Tesing Normally !\"\n",
    "omail.body=\"Hello \\n How are You\"\n",
    "omail.send"
   ]
  },
  {
   "cell_type": "markdown",
   "id": "a77d9d42",
   "metadata": {},
   "source": [
    "### Outlook Filters"
   ]
  },
  {
   "cell_type": "code",
   "execution_count": null,
   "id": "5539487e",
   "metadata": {},
   "outputs": [],
   "source": [
    "received_dt = datetime.now() - timedelta(days=1)\n",
    "received_dt = received_dt.strftime('%m/%d/%Y %H:%M %p')\n",
    "messages = messages.Restrict(\"[ReceivedTime] >= '\" + received_dt + \"'\")\n",
    "messages = messages.Restrict(\"[SenderEmailAddress] = 'contact@codeforests.com'\")\n",
    "messages = messages.Restrict(\"[Subject] = 'Sample Report'\")"
   ]
  },
  {
   "cell_type": "markdown",
   "id": "0a633f0f",
   "metadata": {},
   "source": [
    "### run loop through Unread Mails and Mark them as `Read`"
   ]
  },
  {
   "cell_type": "code",
   "execution_count": 23,
   "id": "3dcec60e",
   "metadata": {},
   "outputs": [
    {
     "name": "stdout",
     "output_type": "stream",
     "text": [
      "Reminder of Pearson VUE Exam Appointment\n",
      "New app(s) connected to your Microsoft account\n"
     ]
    }
   ],
   "source": [
    "olook=win32.Dispatch(\"Outlook.Application\")\n",
    "ons=olook.GetNameSpace(\"MAPI\")\n",
    "fol=ons.GetDefaultFolder(6).Folders(\"NeedToDelete\")\n",
    "\n",
    "for mt in fol.Items.Restrict(\"[Unread]=True\"):\n",
    "    print(mt)\n",
    "    mt.Unread=False"
   ]
  },
  {
   "cell_type": "code",
   "execution_count": null,
   "id": "86187e97",
   "metadata": {},
   "outputs": [],
   "source": []
  }
 ],
 "metadata": {
  "kernelspec": {
   "display_name": "Python 3 (ipykernel)",
   "language": "python",
   "name": "python3"
  },
  "language_info": {
   "codemirror_mode": {
    "name": "ipython",
    "version": 3
   },
   "file_extension": ".py",
   "mimetype": "text/x-python",
   "name": "python",
   "nbconvert_exporter": "python",
   "pygments_lexer": "ipython3",
   "version": "3.9.12"
  }
 },
 "nbformat": 4,
 "nbformat_minor": 5
}
